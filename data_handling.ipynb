{
 "cells": [
  {
   "cell_type": "code",
   "execution_count": 13,
   "metadata": {},
   "outputs": [
    {
     "name": "stdout",
     "output_type": "stream",
     "text": [
      "<bound method NDFrame.head of                                                      title  \\\n",
      "item_id                                                      \n",
      "1          Bodycology Scarlet Kiss Fragrance Mist, 8 fl oz   \n",
      "2         Mio Shrink To Fit Cellulite Smoother, 3.4 fl.oz.   \n",
      "3        Christian Audigier Ed Hardy Eau De Toilette Sp...   \n",
      "4                   Disinfecting Office Cleaner MMMCL574CT   \n",
      "5        (6 Pack) Frigidaire PAULTRA Compatilbe Refrige...   \n",
      "...                                                    ...   \n",
      "82714    Swanson Argan Oil Shampoo 97% Natural 8.5 fl o...   \n",
      "82715    3M Buf-Puf Facial Sponge, Regular Perfect Prep...   \n",
      "82716    Bedside-Care Foam Incontinence Cleanser, Unsce...   \n",
      "82717    Dial Individually Wrapped Basics Bar Soap, 1.5...   \n",
      "82718    Natural Ultra Powder Laundry Detergent, Free &...   \n",
      "\n",
      "                                         short_description  \\\n",
      "item_id                                                      \n",
      "1        <p>Turn heads with our intoxicating fragrance ...   \n",
      "2        Shrink to fit cellulite smoother, 3.4 ounce. T...   \n",
      "3        Representing the tiger tatoo, opening like a m...   \n",
      "4        Cleans and disinfects against bacteria on non-...   \n",
      "5        (6 Pack) Frigidaire PAULTRA Compatilbe Refrige...   \n",
      "...                                                    ...   \n",
      "82714                                            Argan Oil   \n",
      "82715                   short description is not available   \n",
      "82716    Bedside Care Foam Incontinence Cleanser 8 Ounc...   \n",
      "82717    Dial Individually Wrapped Basics Bar Soap, 1.5...   \n",
      "82718    Natural Ultra Powder Laundry Detergent, Free &...   \n",
      "\n",
      "                                          long_description scent_prediction  \\\n",
      "item_id                                                                       \n",
      "1        <B>Bodycology Scarlet Kiss Fragrance Mist, 8 f...             None   \n",
      "2        Shrink to fit cellulite smoother, 3.4 ounce. T...             None   \n",
      "3        Representing the tiger tatoo, opening like a m...             None   \n",
      "4        Cleans and disinfects against bacteria on non-...           citrus   \n",
      "5        The Electrolux and Frigidaire Comparable Refri...             None   \n",
      "...                                                    ...              ...   \n",
      "82714    You may have seen argan oil products on the ho...             None   \n",
      "82715    MANUFACTURER: 3M PERSONAL AND HEALTH CARE.  IN...             None   \n",
      "82716    Bedside Care Foam Incontinence Cleanser 8 Ounc...        unscented   \n",
      "82717    Mild, gentle cleansing soap made of naturally ...             None   \n",
      "82718    <!-- Disti Content -->Loads of clean in a smal...              NaN   \n",
      "\n",
      "         quantity_prediction  \n",
      "item_id                       \n",
      "1                        NaN  \n",
      "2                        NaN  \n",
      "3                        NaN  \n",
      "4                        NaN  \n",
      "5                        NaN  \n",
      "...                      ...  \n",
      "82714                    NaN  \n",
      "82715                    NaN  \n",
      "82716                    NaN  \n",
      "82717                    NaN  \n",
      "82718                    NaN  \n",
      "\n",
      "[82718 rows x 5 columns]>\n"
     ]
    }
   ],
   "source": [
    "import pandas as pd\n",
    "\n",
    "df = pd.read_csv(\"D:\\crowd\\data_set\\interview_scent.csv\", header=[0], index_col=0)\n",
    "print(df.head)\n",
    "# print(df.columns)\n"
   ]
  },
  {
   "cell_type": "code",
   "execution_count": 18,
   "metadata": {},
   "outputs": [
    {
     "name": "stdout",
     "output_type": "stream",
     "text": [
      "Int64Index([], dtype='int64', name='item_id')\n",
      "0\n",
      "Index(['title', 'short_description', 'long_description', 'scent_prediction',\n",
      "       'quantity_prediction'],\n",
      "      dtype='object')\n"
     ]
    }
   ],
   "source": [
    "# print(df[df['quantity_prediction'].notna() & df['scent_prediction'].notna()].index)\n",
    "print(len(df[df['quantity_prediction'].notna() & df['scent_prediction'].notna()].index))\n",
    "print(df.columns)"
   ]
  },
  {
   "cell_type": "code",
   "execution_count": 23,
   "metadata": {},
   "outputs": [
    {
     "data": {
      "text/plain": [
       "None                         71233\n",
       "floral                        1350\n",
       "fruity, floral                 825\n",
       "woody, oriental                724\n",
       "unscented                      720\n",
       "                             ...  \n",
       "chypre, oriental, floral         1\n",
       "flower, cranberry, orange        1\n",
       "berry, apple, mango              1\n",
       "woody, balsamic                  1\n",
       "citrus, herbal, vanilla          1\n",
       "Name: scent_prediction, Length: 414, dtype: int64"
      ]
     },
     "execution_count": 23,
     "metadata": {},
     "output_type": "execute_result"
    }
   ],
   "source": [
    "df['scent_prediction'].unique()"
   ]
  },
  {
   "cell_type": "code",
   "execution_count": 25,
   "metadata": {},
   "outputs": [
    {
     "data": {
      "text/plain": [
       "None                         71233\n",
       "floral                        1350\n",
       "fruity, floral                 825\n",
       "woody, oriental                724\n",
       "unscented                      720\n",
       "                             ...  \n",
       "chypre, oriental, floral         1\n",
       "flower, cranberry, orange        1\n",
       "berry, apple, mango              1\n",
       "woody, balsamic                  1\n",
       "citrus, herbal, vanilla          1\n",
       "Name: scent_prediction, Length: 414, dtype: int64"
      ]
     },
     "execution_count": 25,
     "metadata": {},
     "output_type": "execute_result"
    }
   ],
   "source": [
    "df['scent_prediction'].value_counts()\n"
   ]
  },
  {
   "cell_type": "code",
   "execution_count": 62,
   "metadata": {},
   "outputs": [
    {
     "name": "stdout",
     "output_type": "stream",
     "text": [
      "                   scent_value  count\n",
      "0                         None  71233\n",
      "1                       floral   1350\n",
      "2               fruity, floral    825\n",
      "3              woody, oriental    724\n",
      "4                    unscented    720\n",
      "..                         ...    ...\n",
      "409   chypre, oriental, floral      1\n",
      "410  flower, cranberry, orange      1\n",
      "411        berry, apple, mango      1\n",
      "412            woody, balsamic      1\n",
      "413    citrus, herbal, vanilla      1\n",
      "\n",
      "[414 rows x 2 columns]\n",
      "414\n"
     ]
    }
   ],
   "source": [
    "newdf = df['scent_prediction'].value_counts()\n",
    "newdf = newdf.to_frame(name='scent_value').reset_index()\n",
    "newdf = newdf.rename(columns={'index':'scent_value','scent_value':'count'})\n",
    "print(newdf)\n",
    "print(len(set(newdf['scent_value'].tolist())))\n",
    "# file1 = pd.DataFrame(newdf, columns=['scent_valies', 'count'])\n",
    "# print(file1)"
   ]
  },
  {
   "cell_type": "code",
   "execution_count": 75,
   "metadata": {},
   "outputs": [],
   "source": [
    "nedf = df['short_description'].str.extract('(\\d*\\.\\d+[oO][zZ]|\\d+[oO][zZ])')\n",
    "nedf = nedf[0].str.extract('(\\d*\\.\\d|\\d)')\n",
    "\n",
    "nedf.to_csv('result/new1.csv')"
   ]
  }
 ],
 "metadata": {
  "interpreter": {
   "hash": "8f61fe90b8559cb2a1d38235907cb4202e3f29427beb4c99eed19a527d90a3ed"
  },
  "kernelspec": {
   "display_name": "Python 3.7.2 ('.env': venv)",
   "language": "python",
   "name": "python3"
  },
  "language_info": {
   "codemirror_mode": {
    "name": "ipython",
    "version": 3
   },
   "file_extension": ".py",
   "mimetype": "text/x-python",
   "name": "python",
   "nbconvert_exporter": "python",
   "pygments_lexer": "ipython3",
   "version": "3.7.2"
  },
  "orig_nbformat": 4
 },
 "nbformat": 4,
 "nbformat_minor": 2
}
